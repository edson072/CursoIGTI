{
  "cells": [
    {
      "cell_type": "markdown",
      "metadata": {
        "id": "view-in-github",
        "colab_type": "text"
      },
      "source": [
        "<a href=\"https://colab.research.google.com/github/edson072/CursoIGTI/blob/main/Entrega_23_03.ipynb\" target=\"_parent\"><img src=\"https://colab.research.google.com/assets/colab-badge.svg\" alt=\"Open In Colab\"/></a>"
      ]
    },
    {
      "cell_type": "markdown",
      "source": [
        "#1ª entrega do Bootcamp\n",
        "#@title - Começando a manipular dados\n",
        "\n",
        "\n"
      ],
      "metadata": {
        "id": "Ez95cO7ajlk4"
      }
    },
    {
      "cell_type": "code",
      "execution_count": null,
      "metadata": {
        "colab": {
          "base_uri": "https://localhost:8080/"
        },
        "id": "_AnSQEWnQgZt",
        "outputId": "6e7afcd5-7ad0-4689-a888-950186862d93"
      },
      "outputs": [
        {
          "output_type": "stream",
          "name": "stdout",
          "text": [
            "Mounted at /content/gdrive\n"
          ]
        }
      ],
      "source": [
        "from google.colab import drive\n",
        "drive.mount('/content/gdrive')"
      ]
    },
    {
      "cell_type": "code",
      "execution_count": null,
      "metadata": {
        "id": "1n6GdVUlLhCq"
      },
      "outputs": [],
      "source": [
        "import pandas as pd\n",
        "import numpy as np\n",
        "import matplotlib.pyplot as plt\n",
        "\n"
      ]
    },
    {
      "cell_type": "code",
      "source": [
        "from google.colab import files\n",
        "\n",
        "uploaded = files.upload()\n",
        "\n"
      ],
      "metadata": {
        "colab": {
          "base_uri": "https://localhost:8080/",
          "height": 90
        },
        "id": "UVR99UtNhiPy",
        "outputId": "9860e52c-3f46-4108-a42c-c49b5edb2457"
      },
      "execution_count": null,
      "outputs": [
        {
          "output_type": "display_data",
          "data": {
            "text/plain": [
              "<IPython.core.display.HTML object>"
            ],
            "text/html": [
              "\n",
              "     <input type=\"file\" id=\"files-200dc6b7-076f-43d8-9705-e27e792095f4\" name=\"files[]\" multiple disabled\n",
              "        style=\"border:none\" />\n",
              "     <output id=\"result-200dc6b7-076f-43d8-9705-e27e792095f4\">\n",
              "      Upload widget is only available when the cell has been executed in the\n",
              "      current browser session. Please rerun this cell to enable.\n",
              "      </output>\n",
              "      <script>// Copyright 2017 Google LLC\n",
              "//\n",
              "// Licensed under the Apache License, Version 2.0 (the \"License\");\n",
              "// you may not use this file except in compliance with the License.\n",
              "// You may obtain a copy of the License at\n",
              "//\n",
              "//      http://www.apache.org/licenses/LICENSE-2.0\n",
              "//\n",
              "// Unless required by applicable law or agreed to in writing, software\n",
              "// distributed under the License is distributed on an \"AS IS\" BASIS,\n",
              "// WITHOUT WARRANTIES OR CONDITIONS OF ANY KIND, either express or implied.\n",
              "// See the License for the specific language governing permissions and\n",
              "// limitations under the License.\n",
              "\n",
              "/**\n",
              " * @fileoverview Helpers for google.colab Python module.\n",
              " */\n",
              "(function(scope) {\n",
              "function span(text, styleAttributes = {}) {\n",
              "  const element = document.createElement('span');\n",
              "  element.textContent = text;\n",
              "  for (const key of Object.keys(styleAttributes)) {\n",
              "    element.style[key] = styleAttributes[key];\n",
              "  }\n",
              "  return element;\n",
              "}\n",
              "\n",
              "// Max number of bytes which will be uploaded at a time.\n",
              "const MAX_PAYLOAD_SIZE = 100 * 1024;\n",
              "\n",
              "function _uploadFiles(inputId, outputId) {\n",
              "  const steps = uploadFilesStep(inputId, outputId);\n",
              "  const outputElement = document.getElementById(outputId);\n",
              "  // Cache steps on the outputElement to make it available for the next call\n",
              "  // to uploadFilesContinue from Python.\n",
              "  outputElement.steps = steps;\n",
              "\n",
              "  return _uploadFilesContinue(outputId);\n",
              "}\n",
              "\n",
              "// This is roughly an async generator (not supported in the browser yet),\n",
              "// where there are multiple asynchronous steps and the Python side is going\n",
              "// to poll for completion of each step.\n",
              "// This uses a Promise to block the python side on completion of each step,\n",
              "// then passes the result of the previous step as the input to the next step.\n",
              "function _uploadFilesContinue(outputId) {\n",
              "  const outputElement = document.getElementById(outputId);\n",
              "  const steps = outputElement.steps;\n",
              "\n",
              "  const next = steps.next(outputElement.lastPromiseValue);\n",
              "  return Promise.resolve(next.value.promise).then((value) => {\n",
              "    // Cache the last promise value to make it available to the next\n",
              "    // step of the generator.\n",
              "    outputElement.lastPromiseValue = value;\n",
              "    return next.value.response;\n",
              "  });\n",
              "}\n",
              "\n",
              "/**\n",
              " * Generator function which is called between each async step of the upload\n",
              " * process.\n",
              " * @param {string} inputId Element ID of the input file picker element.\n",
              " * @param {string} outputId Element ID of the output display.\n",
              " * @return {!Iterable<!Object>} Iterable of next steps.\n",
              " */\n",
              "function* uploadFilesStep(inputId, outputId) {\n",
              "  const inputElement = document.getElementById(inputId);\n",
              "  inputElement.disabled = false;\n",
              "\n",
              "  const outputElement = document.getElementById(outputId);\n",
              "  outputElement.innerHTML = '';\n",
              "\n",
              "  const pickedPromise = new Promise((resolve) => {\n",
              "    inputElement.addEventListener('change', (e) => {\n",
              "      resolve(e.target.files);\n",
              "    });\n",
              "  });\n",
              "\n",
              "  const cancel = document.createElement('button');\n",
              "  inputElement.parentElement.appendChild(cancel);\n",
              "  cancel.textContent = 'Cancel upload';\n",
              "  const cancelPromise = new Promise((resolve) => {\n",
              "    cancel.onclick = () => {\n",
              "      resolve(null);\n",
              "    };\n",
              "  });\n",
              "\n",
              "  // Wait for the user to pick the files.\n",
              "  const files = yield {\n",
              "    promise: Promise.race([pickedPromise, cancelPromise]),\n",
              "    response: {\n",
              "      action: 'starting',\n",
              "    }\n",
              "  };\n",
              "\n",
              "  cancel.remove();\n",
              "\n",
              "  // Disable the input element since further picks are not allowed.\n",
              "  inputElement.disabled = true;\n",
              "\n",
              "  if (!files) {\n",
              "    return {\n",
              "      response: {\n",
              "        action: 'complete',\n",
              "      }\n",
              "    };\n",
              "  }\n",
              "\n",
              "  for (const file of files) {\n",
              "    const li = document.createElement('li');\n",
              "    li.append(span(file.name, {fontWeight: 'bold'}));\n",
              "    li.append(span(\n",
              "        `(${file.type || 'n/a'}) - ${file.size} bytes, ` +\n",
              "        `last modified: ${\n",
              "            file.lastModifiedDate ? file.lastModifiedDate.toLocaleDateString() :\n",
              "                                    'n/a'} - `));\n",
              "    const percent = span('0% done');\n",
              "    li.appendChild(percent);\n",
              "\n",
              "    outputElement.appendChild(li);\n",
              "\n",
              "    const fileDataPromise = new Promise((resolve) => {\n",
              "      const reader = new FileReader();\n",
              "      reader.onload = (e) => {\n",
              "        resolve(e.target.result);\n",
              "      };\n",
              "      reader.readAsArrayBuffer(file);\n",
              "    });\n",
              "    // Wait for the data to be ready.\n",
              "    let fileData = yield {\n",
              "      promise: fileDataPromise,\n",
              "      response: {\n",
              "        action: 'continue',\n",
              "      }\n",
              "    };\n",
              "\n",
              "    // Use a chunked sending to avoid message size limits. See b/62115660.\n",
              "    let position = 0;\n",
              "    do {\n",
              "      const length = Math.min(fileData.byteLength - position, MAX_PAYLOAD_SIZE);\n",
              "      const chunk = new Uint8Array(fileData, position, length);\n",
              "      position += length;\n",
              "\n",
              "      const base64 = btoa(String.fromCharCode.apply(null, chunk));\n",
              "      yield {\n",
              "        response: {\n",
              "          action: 'append',\n",
              "          file: file.name,\n",
              "          data: base64,\n",
              "        },\n",
              "      };\n",
              "\n",
              "      let percentDone = fileData.byteLength === 0 ?\n",
              "          100 :\n",
              "          Math.round((position / fileData.byteLength) * 100);\n",
              "      percent.textContent = `${percentDone}% done`;\n",
              "\n",
              "    } while (position < fileData.byteLength);\n",
              "  }\n",
              "\n",
              "  // All done.\n",
              "  yield {\n",
              "    response: {\n",
              "      action: 'complete',\n",
              "    }\n",
              "  };\n",
              "}\n",
              "\n",
              "scope.google = scope.google || {};\n",
              "scope.google.colab = scope.google.colab || {};\n",
              "scope.google.colab._files = {\n",
              "  _uploadFiles,\n",
              "  _uploadFilesContinue,\n",
              "};\n",
              "})(self);\n",
              "</script> "
            ]
          },
          "metadata": {}
        },
        {
          "output_type": "stream",
          "name": "stdout",
          "text": [
            "Saving Limpo_entrega_dia03-04.xlsx to Limpo_entrega_dia03-04.xlsx\n"
          ]
        }
      ]
    },
    {
      "cell_type": "code",
      "source": [
        "df = pd.read_excel('Limpo_entrega_dia03-04.xlsx')\n",
        "\n",
        "\n",
        "print (df.head(1000))\n"
      ],
      "metadata": {
        "colab": {
          "base_uri": "https://localhost:8080/"
        },
        "id": "yNpDtizjY1Ec",
        "outputId": "cf453f83-bf6e-4495-f0cd-0f91c0f882d6"
      },
      "execution_count": null,
      "outputs": [
        {
          "output_type": "stream",
          "name": "stdout",
          "text": [
            "      TICKER   PRECO  ULTIMO DIVIDENDO     DY  VALOR PATRIMONIAL COTA   P/VP  \\\n",
            "0     GALG11    8.27          0.082000  11.83                    9.29   0.89   \n",
            "1     HGRU11  115.22          0.850000   9.95                  123.44   0.93   \n",
            "2     VIFI11    6.72          0.065000  11.01                    8.52   0.79   \n",
            "3     THRA11  138.50          0.130000   0.00                    9.54  14.52   \n",
            "4     VPSI11    0.00          0.169331   0.00                   21.17   0.00   \n",
            "..       ...     ...               ...    ...                     ...    ...   \n",
            "427   NEWU11   69.70          0.140000   0.73                   68.85   1.01   \n",
            "428   HSLG11   75.76          0.720000  10.88                  104.75   0.72   \n",
            "429   VCRR11   70.49          0.670000  11.41                  128.26   0.55   \n",
            "430  FAMB11B  769.99          9.160000   0.00                 2985.60   0.26   \n",
            "431   RZAK11   94.94          1.200000  18.71                   92.50   1.03   \n",
            "\n",
            "     LIQUIDEZ MEDIA DIARIA  PERCENTUAL EM CAIXA  CAGR DIVIDENDOS 3 ANOS  \\\n",
            "0                387808.95                 0.18                    0.00   \n",
            "1               3101055.73                 1.51                   11.80   \n",
            "2                 55681.45                 4.45                    0.00   \n",
            "3                     0.00               140.47                   90.73   \n",
            "4                     0.00                 1.01                   34.85   \n",
            "..                     ...                  ...                     ...   \n",
            "427              159528.62                 2.14                   54.21   \n",
            "428              618455.32                 4.95                    0.00   \n",
            "429              137444.86                 6.89                    0.00   \n",
            "430               85758.50                 1.87                   -9.82   \n",
            "431             3358020.36                14.80                    0.00   \n",
            "\n",
            "      CAGR VALOR CORA 3 ANOS    PATRIMONIO  N COTISTAS   GESTAO   N COTAS  \n",
            "0                       0.00  5.342978e+08       27705    Ativa  57485300  \n",
            "1                       2.18  2.272085e+09      195452    Ativa  18406458  \n",
            "2                       0.00  6.895688e+07        9876    Ativa   8089190  \n",
            "3                       4.61  1.405068e+07        2084  Passiva   1472728  \n",
            "4                       0.00  1.708550e+08          53  Passiva   8071897  \n",
            "..                       ...           ...         ...      ...       ...  \n",
            "427                     6.32  5.109015e+07        1627    Ativa    742000  \n",
            "428                     0.00  1.326199e+09       24605    Ativa  12660067  \n",
            "429                     0.00  2.565121e+08           0    Ativa   2000000  \n",
            "430                   -32.38  3.128914e+08        2755  Passiva    104800  \n",
            "431                     0.00  8.146926e+08       44128    Ativa   8807885  \n",
            "\n",
            "[432 rows x 14 columns]\n"
          ]
        }
      ]
    },
    {
      "cell_type": "markdown",
      "metadata": {
        "id": "x61bnzl0SPTb"
      },
      "source": [
        "# Nova seção"
      ]
    },
    {
      "cell_type": "code",
      "source": [
        "# Define o nome das colunas que serão utilizadas no gráfico de dispersão\n",
        "x_col = 'TICKER'\n",
        "y_col = 'P/VP'\n",
        "\n",
        "# Define o tamanho da figura do gráfico\n",
        "plt.figure(figsize=(12, 8))\n",
        "\n",
        "# Define o limite do eixo de preço\n",
        "plt.ylim(0, 200)\n",
        "\n",
        "# Calcula o valor correspondente ao percentil de 95 dos dados da coluna y\n",
        "y_percentile_95 = np.percentile(df[y_col], 95)\n",
        "\n",
        "# Filtra os dados do dataframe para excluir valores iguais a zero e acima do percentil de 95\n",
        "df_filtered = df[(df[y_col] > 5) & (df[y_col] <= np.percentile(df[y_col], 95))]\n",
        "\n",
        "# Cria o gráfico de dispersão\n",
        "plt.scatter(df_filtered[x_col], df_filtered[y_col])\n",
        "\n",
        "# Plota uma linha horizontal correspondente ao percentil de 95\n",
        "plt.axhline(y=y_percentile_95, color='r', linestyle='--', label='95%')\n",
        "\n",
        "# Define os rótulos dos eixos e o título do gráfico\n",
        "plt.xlabel('Nome do papel')\n",
        "plt.ylabel('Preço por Valor Patrimonial')\n",
        "plt.title('FII Entrega dia 03/04/2023')\n",
        "\n",
        "# Define o limite do eixo de preço\n",
        "plt.xlim(0, 100)\n",
        "\n",
        "# Adiciona a legenda do gráfico\n",
        "plt.legend()\n",
        "\n",
        "# Salva o dataframe em um arquivo Excel\n",
        "df_filtered.to_excel('Limpo_entrega2_dia03-04.xlsx', index=False)\n",
        "\n",
        "# Exibe o gráfico\n",
        "plt.show()\n",
        "\n"
      ],
      "metadata": {
        "colab": {
          "base_uri": "https://localhost:8080/",
          "height": 450
        },
        "outputId": "915f0641-4d02-4184-b85a-401018ef79ba",
        "id": "6DEPFbQxyeE5"
      },
      "execution_count": null,
      "outputs": [
        {
          "output_type": "display_data",
          "data": {
            "text/plain": [
              "<Figure size 1200x800 with 1 Axes>"
            ],
            "image/png": "[encoded data removed]"
          },
          "metadata": {}
        }
      ]
    },
    {
      "cell_type": "code",
      "source": [],
      "metadata": {
        "id": "JDTIM6SWx2OU"
      },
      "execution_count": null,
      "outputs": []
    }
  ],
  "metadata": {
    "colab": {
      "provenance": [],
      "mount_file_id": "16SDXcNUCQNVml67JNx6OE3G7DD8TytAk",
      "authorship_tag": "ABX9TyPxi7UZchQZYuGXF406Z0rc",
      "include_colab_link": true
    },
    "kernelspec": {
      "display_name": "Python 3",
      "name": "python3"
    },
    "language_info": {
      "name": "python"
    }
  },
  "nbformat": 4,
  "nbformat_minor": 0
}