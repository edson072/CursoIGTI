{
  "nbformat": 4,
  "nbformat_minor": 0,
  "metadata": {
    "colab": {
      "provenance": [],
      "authorship_tag": "ABX9TyOAOQw9GRaKfv5Zl5doEwn2",
      "include_colab_link": true
    },
    "kernelspec": {
      "name": "python3",
      "display_name": "Python 3"
    },
    "language_info": {
      "name": "python"
    }
  },
  "cells": [
    {
      "cell_type": "markdown",
      "metadata": {
        "id": "view-in-github",
        "colab_type": "text"
      },
      "source": [
        "<a href=\"https://colab.research.google.com/github/edson072/CursoIGTI/blob/main/teste_analise.ipynb\" target=\"_parent\"><img src=\"https://colab.research.google.com/assets/colab-badge.svg\" alt=\"Open In Colab\"/></a>"
      ]
    },
    {
      "cell_type": "code",
      "source": [
        "import yfinance as yf\n",
        "import pandas as pd\n",
        "\n",
        "# Definir as listas de empresas\n",
        "lista1 = [\"VALE3.SA\", \"PETR4.SA\", \"ITUB4.SA\", \"WEGE3.SA\", \"BBDC4.SA\", \"BPAC11.SA\", \"SANB4.SA\", \"BBAS3.SA\", \"ELET6.SA\", \"ITSA4.SA\", \"B3SA3.SA\", \"SUZB3.SA\", \"VIVT3.SA\", \"RENT3.SA\", \"JBSS3.SA\"]\n",
        "lista2 = [\"HYPE3.SA\", \"CMIG4.SA\", \"KLBN4.SA\", \"CCRO3.SA\", \"CPLE6.SA\", \"ENGI4.SA\", \"LREN3.SA\", \"BRKM5.SA\", \"CSNA3.SA\", \"ENEV3.SA\", \"MGLU3.SA\", \"VBBR3.SA\", \"ENMT4.SA\", \"CGAS5.SA\", \"TOTS3.SA\"]\n",
        "lista3 = [\"SLCE3.SA\", \"ALPA4.SA\", \"USIM5.SA\", \"UNIP6.SA\", \"ARZZ3.SA\", \"BEEF3.SA\", \"WHRL4.SA\", \"CEEB3.SA\", \"STBP3.SA\", \"BNBR3.SA\", \"CSMG3.SA\", \"MOAR3.SA\", \"AESB3.SA\", \"MRFG3.SA\", \"IGTI3.SA\"]\n",
        "\n",
        "# Definir a data inicial e final\n",
        "data_inicial = \"2019-12-30\"\n",
        "data_final = \"2023-05-01\"\n",
        "\n",
        "# Definir o intervalo de tempo para o resampling\n",
        "intervalo = \"1d\"\n",
        "\n",
        "# Definir a lista de preços para cada lista de empresas\n",
        "lista1_precos = []\n",
        "for empresa in lista1:\n",
        "    acao = yf.Ticker(empresa)\n",
        "    try:\n",
        "        lista1_precos.append(acao.history(start=data_inicial, end=data_final, interval=intervalo)[\"Close\"])\n",
        "    except:\n",
        "        pass\n",
        "\n",
        "lista2_precos = []\n",
        "for empresa in lista2:\n",
        "    acao = yf.Ticker(empresa)\n",
        "    try:\n",
        "        lista2_precos.append(acao.history(start=data_inicial, end=data_final, interval=intervalo)[\"Close\"])\n",
        "    except:\n",
        "        pass\n",
        "\n",
        "lista3_precos = []\n",
        "for empresa in lista3:\n",
        "    acao = yf.Ticker(empresa)\n",
        "    try:\n",
        "        lista3_precos.append(acao.history(start=data_inicial, end=data_final, interval=intervalo)[\"Close\"])\n",
        "    except:\n",
        "        pass\n",
        "\n",
        "# Calcular o retorno acumulado para cada lista de empresas\n",
        "lista1_retorno = pd.concat(lista1_precos, axis=1).pct_change().sum().iloc[-1]\n",
        "lista2_retorno = pd.concat(lista2_precos, axis=1).pct_change().sum().iloc[-1]\n",
        "lista3_retorno = pd.concat(lista3_precos, axis=1).pct_change().sum().iloc[-1]\n",
        "\n",
        "# Imprimir os retornos acumulados de cada lista\n",
        "print(f\"Retorno acumulado da lista 1: {lista1_retorno:.2%}\")\n",
        "print(f\"Retorno acumulado da lista 2: {lista2_retorno:.2%}\")\n",
        "print(f\"Retorno acumulado da lista 3: {lista3_retorno:.2%}\")\n"
      ],
      "metadata": {
        "colab": {
          "base_uri": "https://localhost:8080/"
        },
        "id": "GidyJovVF0YB",
        "outputId": "cee5d09c-dddc-4247-f8db-765f0f10898c"
      },
      "execution_count": null,
      "outputs": [
        {
          "output_type": "stream",
          "name": "stdout",
          "text": [
            "Retorno acumulado da lista 1: 14.16%\n",
            "Retorno acumulado da lista 2: 57.82%\n",
            "Retorno acumulado da lista 3: 35.86%\n"
          ]
        }
      ]
    }
  ]
}